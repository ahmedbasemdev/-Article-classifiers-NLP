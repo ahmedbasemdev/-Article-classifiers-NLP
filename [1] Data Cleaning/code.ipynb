{
 "cells": [
  {
   "cell_type": "code",
   "execution_count": 25,
   "metadata": {},
   "outputs": [],
   "source": [
    "import pandas as pd \n",
    "import matplotlib.pyplot as plt\n",
    "import numpy as np \n",
    "import seaborn as sns\n",
    "import os"
   ]
  },
  {
   "cell_type": "code",
   "execution_count": 26,
   "metadata": {},
   "outputs": [
    {
     "name": "stdout",
     "output_type": "stream",
     "text": [
      "H:\\Projects\\NlP\\NLP-Projects\\Articles Classifer\n"
     ]
    }
   ],
   "source": [
    "path = os.path.normpath(os.getcwd() + os.sep + os.pardir)\n",
    "print(path)"
   ]
  },
  {
   "cell_type": "code",
   "execution_count": 27,
   "metadata": {},
   "outputs": [
    {
     "name": "stdout",
     "output_type": "stream",
     "text": [
      " Volume in drive H is Courses\n",
      " Volume Serial Number is 4408-8541\n",
      "\n",
      " Directory of H:\\Projects\\NlP\\NLP-Projects\\Articles Classifer\\[1] Data Cleaning\n",
      "\n",
      "06/12/2022  05:14 PM    <DIR>          .\n",
      "06/12/2022  05:14 PM    <DIR>          ..\n",
      "06/12/2022  03:27 PM    <DIR>          .ipynb_checkpoints\n",
      "06/12/2022  05:14 PM         4,513,115 _finalCleaned.csv\n",
      "06/12/2022  03:24 PM         2,061,042 Art.csv\n",
      "06/12/2022  05:14 PM            21,476 code.ipynb\n",
      "06/12/2022  03:24 PM         1,461,811 Economy.csv\n",
      "06/12/2022  03:24 PM         1,239,608 Sports.csv\n",
      "               5 File(s)      9,297,052 bytes\n",
      "               3 Dir(s)  118,870,745,088 bytes free\n"
     ]
    }
   ],
   "source": [
    "ls"
   ]
  },
  {
   "cell_type": "code",
   "execution_count": 28,
   "metadata": {},
   "outputs": [
    {
     "data": {
      "text/html": [
       "<div>\n",
       "<style scoped>\n",
       "    .dataframe tbody tr th:only-of-type {\n",
       "        vertical-align: middle;\n",
       "    }\n",
       "\n",
       "    .dataframe tbody tr th {\n",
       "        vertical-align: top;\n",
       "    }\n",
       "\n",
       "    .dataframe thead th {\n",
       "        text-align: right;\n",
       "    }\n",
       "</style>\n",
       "<table border=\"1\" class=\"dataframe\">\n",
       "  <thead>\n",
       "    <tr style=\"text-align: right;\">\n",
       "      <th></th>\n",
       "      <th>Unnamed: 0</th>\n",
       "      <th>Article Title</th>\n",
       "      <th>Category</th>\n",
       "    </tr>\n",
       "  </thead>\n",
       "  <tbody>\n",
       "    <tr>\n",
       "      <th>0</th>\n",
       "      <td>0</td>\n",
       "      <td>\\n\\nWorks by Picasso and others stolen in Spai...</td>\n",
       "      <td>Art</td>\n",
       "    </tr>\n",
       "    <tr>\n",
       "      <th>1</th>\n",
       "      <td>1</td>\n",
       "      <td>\\n\\nSalwa and Maged at the Art Corner Gallery ...</td>\n",
       "      <td>Art</td>\n",
       "    </tr>\n",
       "    <tr>\n",
       "      <th>2</th>\n",
       "      <td>2</td>\n",
       "      <td>\\n\\nA tribute to Abdalla Gohar\\n\\n\\n\\nOn 1 Dec...</td>\n",
       "      <td>Art</td>\n",
       "    </tr>\n",
       "    <tr>\n",
       "      <th>3</th>\n",
       "      <td>3</td>\n",
       "      <td>\\n\\nRaw, untamed, and compelling: ‘Flesh’ by S...</td>\n",
       "      <td>Art</td>\n",
       "    </tr>\n",
       "    <tr>\n",
       "      <th>4</th>\n",
       "      <td>4</td>\n",
       "      <td>\\n\\nFrom water to mosaics\\n\\n\\n\\nThe Gezira Ce...</td>\n",
       "      <td>Art</td>\n",
       "    </tr>\n",
       "  </tbody>\n",
       "</table>\n",
       "</div>"
      ],
      "text/plain": [
       "   Unnamed: 0                                      Article Title Category\n",
       "0           0  \\n\\nWorks by Picasso and others stolen in Spai...      Art\n",
       "1           1  \\n\\nSalwa and Maged at the Art Corner Gallery ...      Art\n",
       "2           2  \\n\\nA tribute to Abdalla Gohar\\n\\n\\n\\nOn 1 Dec...      Art\n",
       "3           3  \\n\\nRaw, untamed, and compelling: ‘Flesh’ by S...      Art\n",
       "4           4  \\n\\nFrom water to mosaics\\n\\n\\n\\nThe Gezira Ce...      Art"
      ]
     },
     "execution_count": 28,
     "metadata": {},
     "output_type": "execute_result"
    }
   ],
   "source": [
    "art = pd.read_csv('Art.csv')\n",
    "economy = pd.read_csv('Economy.csv')\n",
    "sports = pd.read_csv('Sports.csv')\n",
    "art.head()"
   ]
  },
  {
   "cell_type": "code",
   "execution_count": 29,
   "metadata": {},
   "outputs": [
    {
     "data": {
      "text/html": [
       "<div>\n",
       "<style scoped>\n",
       "    .dataframe tbody tr th:only-of-type {\n",
       "        vertical-align: middle;\n",
       "    }\n",
       "\n",
       "    .dataframe tbody tr th {\n",
       "        vertical-align: top;\n",
       "    }\n",
       "\n",
       "    .dataframe thead th {\n",
       "        text-align: right;\n",
       "    }\n",
       "</style>\n",
       "<table border=\"1\" class=\"dataframe\">\n",
       "  <thead>\n",
       "    <tr style=\"text-align: right;\">\n",
       "      <th></th>\n",
       "      <th>Unnamed: 0</th>\n",
       "      <th>Article Title</th>\n",
       "      <th>Category</th>\n",
       "    </tr>\n",
       "  </thead>\n",
       "  <tbody>\n",
       "    <tr>\n",
       "      <th>0</th>\n",
       "      <td>0</td>\n",
       "      <td>\\n\\nChinese demand, Mideast turmoil boost ship...</td>\n",
       "      <td>economy</td>\n",
       "    </tr>\n",
       "    <tr>\n",
       "      <th>1</th>\n",
       "      <td>1</td>\n",
       "      <td>\\n\\nEgypt government to issue LE1 bn in zero c...</td>\n",
       "      <td>economy</td>\n",
       "    </tr>\n",
       "    <tr>\n",
       "      <th>2</th>\n",
       "      <td>2</td>\n",
       "      <td>\\n\\nFirst Egyptian Samsung factory starts prod...</td>\n",
       "      <td>economy</td>\n",
       "    </tr>\n",
       "    <tr>\n",
       "      <th>3</th>\n",
       "      <td>3</td>\n",
       "      <td>\\n\\nUPDATED: Egyptian and Arab stocks soar as ...</td>\n",
       "      <td>economy</td>\n",
       "    </tr>\n",
       "    <tr>\n",
       "      <th>4</th>\n",
       "      <td>4</td>\n",
       "      <td>\\n\\nGreek high school teachers to strike over ...</td>\n",
       "      <td>economy</td>\n",
       "    </tr>\n",
       "  </tbody>\n",
       "</table>\n",
       "</div>"
      ],
      "text/plain": [
       "   Unnamed: 0                                      Article Title Category\n",
       "0           0  \\n\\nChinese demand, Mideast turmoil boost ship...  economy\n",
       "1           1  \\n\\nEgypt government to issue LE1 bn in zero c...  economy\n",
       "2           2  \\n\\nFirst Egyptian Samsung factory starts prod...  economy\n",
       "3           3  \\n\\nUPDATED: Egyptian and Arab stocks soar as ...  economy\n",
       "4           4  \\n\\nGreek high school teachers to strike over ...  economy"
      ]
     },
     "execution_count": 29,
     "metadata": {},
     "output_type": "execute_result"
    }
   ],
   "source": [
    "economy.head()"
   ]
  },
  {
   "cell_type": "code",
   "execution_count": 30,
   "metadata": {},
   "outputs": [
    {
     "data": {
      "text/html": [
       "<div>\n",
       "<style scoped>\n",
       "    .dataframe tbody tr th:only-of-type {\n",
       "        vertical-align: middle;\n",
       "    }\n",
       "\n",
       "    .dataframe tbody tr th {\n",
       "        vertical-align: top;\n",
       "    }\n",
       "\n",
       "    .dataframe thead th {\n",
       "        text-align: right;\n",
       "    }\n",
       "</style>\n",
       "<table border=\"1\" class=\"dataframe\">\n",
       "  <thead>\n",
       "    <tr style=\"text-align: right;\">\n",
       "      <th></th>\n",
       "      <th>Article Title</th>\n",
       "      <th>Category</th>\n",
       "    </tr>\n",
       "  </thead>\n",
       "  <tbody>\n",
       "    <tr>\n",
       "      <th>0</th>\n",
       "      <td>\\n\\nWorks by Picasso and others stolen in Spai...</td>\n",
       "      <td>Art</td>\n",
       "    </tr>\n",
       "    <tr>\n",
       "      <th>1</th>\n",
       "      <td>\\n\\nSalwa and Maged at the Art Corner Gallery ...</td>\n",
       "      <td>Art</td>\n",
       "    </tr>\n",
       "    <tr>\n",
       "      <th>2</th>\n",
       "      <td>\\n\\nA tribute to Abdalla Gohar\\n\\n\\n\\nOn 1 Dec...</td>\n",
       "      <td>Art</td>\n",
       "    </tr>\n",
       "    <tr>\n",
       "      <th>3</th>\n",
       "      <td>\\n\\nRaw, untamed, and compelling: ‘Flesh’ by S...</td>\n",
       "      <td>Art</td>\n",
       "    </tr>\n",
       "    <tr>\n",
       "      <th>4</th>\n",
       "      <td>\\n\\nFrom water to mosaics\\n\\n\\n\\nThe Gezira Ce...</td>\n",
       "      <td>Art</td>\n",
       "    </tr>\n",
       "  </tbody>\n",
       "</table>\n",
       "</div>"
      ],
      "text/plain": [
       "                                       Article Title Category\n",
       "0  \\n\\nWorks by Picasso and others stolen in Spai...      Art\n",
       "1  \\n\\nSalwa and Maged at the Art Corner Gallery ...      Art\n",
       "2  \\n\\nA tribute to Abdalla Gohar\\n\\n\\n\\nOn 1 Dec...      Art\n",
       "3  \\n\\nRaw, untamed, and compelling: ‘Flesh’ by S...      Art\n",
       "4  \\n\\nFrom water to mosaics\\n\\n\\n\\nThe Gezira Ce...      Art"
      ]
     },
     "execution_count": 30,
     "metadata": {},
     "output_type": "execute_result"
    }
   ],
   "source": [
    "data = pd.concat([art,economy,sports])\n",
    "data = data.drop('Unnamed: 0',axis = 1)\n",
    "data.head()"
   ]
  },
  {
   "cell_type": "code",
   "execution_count": 31,
   "metadata": {},
   "outputs": [
    {
     "name": "stdout",
     "output_type": "stream",
     "text": [
      "There are 30437 Rows and 2 Columns in our Data\n"
     ]
    }
   ],
   "source": [
    "print(f'There are {data.shape[0]} Rows and {data.shape[1]} Columns in our Data')"
   ]
  },
  {
   "cell_type": "code",
   "execution_count": 32,
   "metadata": {},
   "outputs": [
    {
     "data": {
      "text/html": [
       "<div>\n",
       "<style scoped>\n",
       "    .dataframe tbody tr th:only-of-type {\n",
       "        vertical-align: middle;\n",
       "    }\n",
       "\n",
       "    .dataframe tbody tr th {\n",
       "        vertical-align: top;\n",
       "    }\n",
       "\n",
       "    .dataframe thead th {\n",
       "        text-align: right;\n",
       "    }\n",
       "</style>\n",
       "<table border=\"1\" class=\"dataframe\">\n",
       "  <thead>\n",
       "    <tr style=\"text-align: right;\">\n",
       "      <th></th>\n",
       "      <th>Article Title</th>\n",
       "      <th>Category</th>\n",
       "    </tr>\n",
       "  </thead>\n",
       "  <tbody>\n",
       "    <tr>\n",
       "      <th>0</th>\n",
       "      <td>Works by Picasso and others stolen in Spain \\n...</td>\n",
       "      <td>Art</td>\n",
       "    </tr>\n",
       "    <tr>\n",
       "      <th>1</th>\n",
       "      <td>Salwa and Maged at the Art Corner Gallery \\n\\n...</td>\n",
       "      <td>Art</td>\n",
       "    </tr>\n",
       "    <tr>\n",
       "      <th>2</th>\n",
       "      <td>A tribute to Abdalla Gohar\\n\\n\\n\\nOn 1 Decembe...</td>\n",
       "      <td>Art</td>\n",
       "    </tr>\n",
       "    <tr>\n",
       "      <th>3</th>\n",
       "      <td>Raw, untamed, and compelling: ‘Flesh’ by Samir...</td>\n",
       "      <td>Art</td>\n",
       "    </tr>\n",
       "    <tr>\n",
       "      <th>4</th>\n",
       "      <td>From water to mosaics\\n\\n\\n\\nThe Gezira Centre...</td>\n",
       "      <td>Art</td>\n",
       "    </tr>\n",
       "  </tbody>\n",
       "</table>\n",
       "</div>"
      ],
      "text/plain": [
       "                                       Article Title Category\n",
       "0  Works by Picasso and others stolen in Spain \\n...      Art\n",
       "1  Salwa and Maged at the Art Corner Gallery \\n\\n...      Art\n",
       "2  A tribute to Abdalla Gohar\\n\\n\\n\\nOn 1 Decembe...      Art\n",
       "3  Raw, untamed, and compelling: ‘Flesh’ by Samir...      Art\n",
       "4  From water to mosaics\\n\\n\\n\\nThe Gezira Centre...      Art"
      ]
     },
     "execution_count": 32,
     "metadata": {},
     "output_type": "execute_result"
    }
   ],
   "source": [
    "data['Article Title'] = data['Article Title'].str.strip()\n",
    "data.head()"
   ]
  },
  {
   "cell_type": "code",
   "execution_count": 33,
   "metadata": {},
   "outputs": [
    {
     "data": {
      "text/html": [
       "<div>\n",
       "<style scoped>\n",
       "    .dataframe tbody tr th:only-of-type {\n",
       "        vertical-align: middle;\n",
       "    }\n",
       "\n",
       "    .dataframe tbody tr th {\n",
       "        vertical-align: top;\n",
       "    }\n",
       "\n",
       "    .dataframe thead th {\n",
       "        text-align: right;\n",
       "    }\n",
       "</style>\n",
       "<table border=\"1\" class=\"dataframe\">\n",
       "  <thead>\n",
       "    <tr style=\"text-align: right;\">\n",
       "      <th></th>\n",
       "      <th>Article Title</th>\n",
       "      <th>Category</th>\n",
       "    </tr>\n",
       "  </thead>\n",
       "  <tbody>\n",
       "    <tr>\n",
       "      <th>0</th>\n",
       "      <td>Works by Picasso and others stolen in Spain \\n...</td>\n",
       "      <td>Art</td>\n",
       "    </tr>\n",
       "    <tr>\n",
       "      <th>1</th>\n",
       "      <td>Salwa and Maged at the Art Corner Gallery \\n\\n...</td>\n",
       "      <td>Art</td>\n",
       "    </tr>\n",
       "    <tr>\n",
       "      <th>2</th>\n",
       "      <td>A tribute to Abdalla Gohar\\n\\n\\n\\nOn 1 Decembe...</td>\n",
       "      <td>Art</td>\n",
       "    </tr>\n",
       "    <tr>\n",
       "      <th>3</th>\n",
       "      <td>Raw, untamed, and compelling: ‘Flesh’ by Samir...</td>\n",
       "      <td>Art</td>\n",
       "    </tr>\n",
       "    <tr>\n",
       "      <th>4</th>\n",
       "      <td>From water to mosaics\\n\\n\\n\\nThe Gezira Centre...</td>\n",
       "      <td>Art</td>\n",
       "    </tr>\n",
       "    <tr>\n",
       "      <th>...</th>\n",
       "      <td>...</td>\n",
       "      <td>...</td>\n",
       "    </tr>\n",
       "    <tr>\n",
       "      <th>9975</th>\n",
       "      <td>Germany Bundesliga results &amp; scorers (21st mat...</td>\n",
       "      <td>sports</td>\n",
       "    </tr>\n",
       "    <tr>\n",
       "      <th>9976</th>\n",
       "      <td>Barcelona go fourth after winning six-goal thr...</td>\n",
       "      <td>sports</td>\n",
       "    </tr>\n",
       "    <tr>\n",
       "      <th>9977</th>\n",
       "      <td>Dortmund humiliated by Leverkusen in Haaland's...</td>\n",
       "      <td>sports</td>\n",
       "    </tr>\n",
       "    <tr>\n",
       "      <th>9978</th>\n",
       "      <td>Back from injury, 1st Liverpool goal for teen ...</td>\n",
       "      <td>sports</td>\n",
       "    </tr>\n",
       "    <tr>\n",
       "      <th>9979</th>\n",
       "      <td>Manchester City, Chelsea, Spurs get favourable...</td>\n",
       "      <td>sports</td>\n",
       "    </tr>\n",
       "  </tbody>\n",
       "</table>\n",
       "<p>30371 rows × 2 columns</p>\n",
       "</div>"
      ],
      "text/plain": [
       "                                          Article Title Category\n",
       "0     Works by Picasso and others stolen in Spain \\n...      Art\n",
       "1     Salwa and Maged at the Art Corner Gallery \\n\\n...      Art\n",
       "2     A tribute to Abdalla Gohar\\n\\n\\n\\nOn 1 Decembe...      Art\n",
       "3     Raw, untamed, and compelling: ‘Flesh’ by Samir...      Art\n",
       "4     From water to mosaics\\n\\n\\n\\nThe Gezira Centre...      Art\n",
       "...                                                 ...      ...\n",
       "9975  Germany Bundesliga results & scorers (21st mat...   sports\n",
       "9976  Barcelona go fourth after winning six-goal thr...   sports\n",
       "9977  Dortmund humiliated by Leverkusen in Haaland's...   sports\n",
       "9978  Back from injury, 1st Liverpool goal for teen ...   sports\n",
       "9979  Manchester City, Chelsea, Spurs get favourable...   sports\n",
       "\n",
       "[30371 rows x 2 columns]"
      ]
     },
     "execution_count": 33,
     "metadata": {},
     "output_type": "execute_result"
    }
   ],
   "source": [
    "data.drop_duplicates()"
   ]
  },
  {
   "cell_type": "code",
   "execution_count": 36,
   "metadata": {},
   "outputs": [],
   "source": [
    "data = data.replace('\\n',' ',regex=True)"
   ]
  },
  {
   "cell_type": "code",
   "execution_count": 38,
   "metadata": {},
   "outputs": [
    {
     "data": {
      "text/html": [
       "<div>\n",
       "<style scoped>\n",
       "    .dataframe tbody tr th:only-of-type {\n",
       "        vertical-align: middle;\n",
       "    }\n",
       "\n",
       "    .dataframe tbody tr th {\n",
       "        vertical-align: top;\n",
       "    }\n",
       "\n",
       "    .dataframe thead th {\n",
       "        text-align: right;\n",
       "    }\n",
       "</style>\n",
       "<table border=\"1\" class=\"dataframe\">\n",
       "  <thead>\n",
       "    <tr style=\"text-align: right;\">\n",
       "      <th></th>\n",
       "      <th>Article Title</th>\n",
       "      <th>Category</th>\n",
       "    </tr>\n",
       "  </thead>\n",
       "  <tbody>\n",
       "    <tr>\n",
       "      <th>0</th>\n",
       "      <td>Works by Picasso and others stolen in Spain   ...</td>\n",
       "      <td>Art</td>\n",
       "    </tr>\n",
       "    <tr>\n",
       "      <th>1</th>\n",
       "      <td>Salwa and Maged at the Art Corner Gallery     ...</td>\n",
       "      <td>Art</td>\n",
       "    </tr>\n",
       "    <tr>\n",
       "      <th>2</th>\n",
       "      <td>A tribute to Abdalla Gohar    On 1 December, K...</td>\n",
       "      <td>Art</td>\n",
       "    </tr>\n",
       "    <tr>\n",
       "      <th>3</th>\n",
       "      <td>Raw, untamed, and compelling: ‘Flesh’ by Samir...</td>\n",
       "      <td>Art</td>\n",
       "    </tr>\n",
       "    <tr>\n",
       "      <th>4</th>\n",
       "      <td>From water to mosaics    The Gezira Centre for...</td>\n",
       "      <td>Art</td>\n",
       "    </tr>\n",
       "  </tbody>\n",
       "</table>\n",
       "</div>"
      ],
      "text/plain": [
       "                                       Article Title Category\n",
       "0  Works by Picasso and others stolen in Spain   ...      Art\n",
       "1  Salwa and Maged at the Art Corner Gallery     ...      Art\n",
       "2  A tribute to Abdalla Gohar    On 1 December, K...      Art\n",
       "3  Raw, untamed, and compelling: ‘Flesh’ by Samir...      Art\n",
       "4  From water to mosaics    The Gezira Centre for...      Art"
      ]
     },
     "execution_count": 38,
     "metadata": {},
     "output_type": "execute_result"
    }
   ],
   "source": [
    "data.head()"
   ]
  },
  {
   "cell_type": "code",
   "execution_count": 39,
   "metadata": {},
   "outputs": [],
   "source": [
    "data.to_csv('_finalCleaned.csv')"
   ]
  },
  {
   "cell_type": "code",
   "execution_count": null,
   "metadata": {},
   "outputs": [],
   "source": []
  }
 ],
 "metadata": {
  "kernelspec": {
   "display_name": "Python 3",
   "language": "python",
   "name": "python3"
  },
  "language_info": {
   "codemirror_mode": {
    "name": "ipython",
    "version": 3
   },
   "file_extension": ".py",
   "mimetype": "text/x-python",
   "name": "python",
   "nbconvert_exporter": "python",
   "pygments_lexer": "ipython3",
   "version": "3.7.6"
  }
 },
 "nbformat": 4,
 "nbformat_minor": 4
}
